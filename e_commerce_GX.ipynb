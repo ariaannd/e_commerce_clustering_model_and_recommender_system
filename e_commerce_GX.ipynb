{
 "cells": [
  {
   "cell_type": "markdown",
   "metadata": {},
   "source": [
    "# **Great Expectation (E-Commerce Sales Data)**\n",
    "\n",
    "---"
   ]
  },
  {
   "cell_type": "markdown",
   "metadata": {},
   "source": [
    "Batch : FTDS-013-HCK   \n",
    "Group : 3\n",
    "\n",
    "**Objective**  \n",
    "\n",
    "This notebook aims to do data validation using great expectations on E-Commerce Sales Data.\n",
    "This notebook aims to do data validation using great expectations on Super Market Sales Data."
   ]
  },
  {
   "cell_type": "code",
   "execution_count": 1,
   "metadata": {},
   "outputs": [],
   "source": [
    "# Install GX library\n",
    "\n",
    "# !pip install -q great-expectations"
   ]
  },
  {
   "cell_type": "markdown",
   "metadata": {},
   "source": [
    "**Explanation**  \n",
    "\n",
    "Code above is used to install great expectations for data validation"
   ]
  },
  {
   "cell_type": "markdown",
   "metadata": {},
   "source": [
    "# **1. Initiate Data Context**"
   ]
  },
  {
   "cell_type": "code",
   "execution_count": 1,
   "metadata": {},
   "outputs": [],
   "source": [
    "# Create a data context\n",
    "from great_expectations.data_context import FileDataContext\n",
    "context = FileDataContext.create(project_root_dir='./')"
   ]
  },
  {
   "cell_type": "markdown",
   "metadata": {},
   "source": [
    "**Explanation**  \n",
    "\n",
    "Code above creates a Great Expectations data context with a file-based configuration in the specified project directory."
   ]
  },
  {
   "cell_type": "markdown",
   "metadata": {},
   "source": [
    "# **2. Connect to a Data Source**"
   ]
  },
  {
   "cell_type": "code",
   "execution_count": 2,
   "metadata": {},
   "outputs": [],
   "source": [
    "# Give a name to a Datasource. This name must be unique between Datasources.\n",
    "datasource_name = 'csv-e_commerce'\n",
    "datasource = context.sources.add_pandas(datasource_name)\n",
    "\n",
    "# Give a name to a data asset\n",
    "asset_name = 'e_commerce'\n",
    "path_to_data = 'e_commerce_data_clean.csv'\n",
    "asset = datasource.add_csv_asset(asset_name, filepath_or_buffer=path_to_data)\n",
    "\n",
    "# Build batch request\n",
    "batch_request = asset.build_batch_request()"
   ]
  },
  {
   "cell_type": "markdown",
   "metadata": {},
   "source": [
    "**Explanation**  \n",
    "\n",
    "Code above defines a data source named 'csv-e_commerce' with a CSV data asset named 'e_commerce_data_clean' and prepares a batch request for the asset."
   ]
  },
  {
   "cell_type": "markdown",
   "metadata": {},
   "source": [
    "# **3. Create an Expectation Suite**"
   ]
  },
  {
   "cell_type": "code",
   "execution_count": 3,
   "metadata": {},
   "outputs": [
    {
     "data": {
      "application/vnd.jupyter.widget-view+json": {
       "model_id": "a177d6f4c2644214acf153d793e1ed7a",
       "version_major": 2,
       "version_minor": 0
      },
      "text/plain": [
       "Calculating Metrics:   0%|          | 0/1 [00:00<?, ?it/s]"
      ]
     },
     "metadata": {},
     "output_type": "display_data"
    },
    {
     "data": {
      "text/html": [
       "<div>\n",
       "<style scoped>\n",
       "    .dataframe tbody tr th:only-of-type {\n",
       "        vertical-align: middle;\n",
       "    }\n",
       "\n",
       "    .dataframe tbody tr th {\n",
       "        vertical-align: top;\n",
       "    }\n",
       "\n",
       "    .dataframe thead th {\n",
       "        text-align: right;\n",
       "    }\n",
       "</style>\n",
       "<table border=\"1\" class=\"dataframe\">\n",
       "  <thead>\n",
       "    <tr style=\"text-align: right;\">\n",
       "      <th></th>\n",
       "      <th>InvoiceNo</th>\n",
       "      <th>StockCode</th>\n",
       "      <th>Description</th>\n",
       "      <th>Quantity</th>\n",
       "      <th>InvoiceDate</th>\n",
       "      <th>UnitPrice</th>\n",
       "      <th>CustomerID</th>\n",
       "      <th>Country</th>\n",
       "      <th>Transaction_Status</th>\n",
       "      <th>Year</th>\n",
       "      <th>Quarter</th>\n",
       "      <th>Continent</th>\n",
       "      <th>Sales</th>\n",
       "      <th>ProductCategory</th>\n",
       "      <th>ProductType</th>\n",
       "    </tr>\n",
       "  </thead>\n",
       "  <tbody>\n",
       "    <tr>\n",
       "      <th>0</th>\n",
       "      <td>536365</td>\n",
       "      <td>85123A</td>\n",
       "      <td>WHITE HANGING HEART T-LIGHT HOLDER</td>\n",
       "      <td>6</td>\n",
       "      <td>2010-12-01 08:26:00</td>\n",
       "      <td>2.55</td>\n",
       "      <td>17850.0</td>\n",
       "      <td>United Kingdom</td>\n",
       "      <td>Completed</td>\n",
       "      <td>2010</td>\n",
       "      <td>Q4</td>\n",
       "      <td>Europe</td>\n",
       "      <td>15.30</td>\n",
       "      <td>T-LIGHT</td>\n",
       "      <td>HOME DECORATION</td>\n",
       "    </tr>\n",
       "    <tr>\n",
       "      <th>1</th>\n",
       "      <td>536365</td>\n",
       "      <td>71053</td>\n",
       "      <td>WHITE METAL LANTERN</td>\n",
       "      <td>6</td>\n",
       "      <td>2010-12-01 08:26:00</td>\n",
       "      <td>3.39</td>\n",
       "      <td>17850.0</td>\n",
       "      <td>United Kingdom</td>\n",
       "      <td>Completed</td>\n",
       "      <td>2010</td>\n",
       "      <td>Q4</td>\n",
       "      <td>Europe</td>\n",
       "      <td>20.34</td>\n",
       "      <td>LANTERN</td>\n",
       "      <td>HOME DECORATION</td>\n",
       "    </tr>\n",
       "    <tr>\n",
       "      <th>2</th>\n",
       "      <td>536365</td>\n",
       "      <td>84406B</td>\n",
       "      <td>CREAM CUPID HEARTS COAT HANGER</td>\n",
       "      <td>8</td>\n",
       "      <td>2010-12-01 08:26:00</td>\n",
       "      <td>2.75</td>\n",
       "      <td>17850.0</td>\n",
       "      <td>United Kingdom</td>\n",
       "      <td>Completed</td>\n",
       "      <td>2010</td>\n",
       "      <td>Q4</td>\n",
       "      <td>Europe</td>\n",
       "      <td>22.00</td>\n",
       "      <td>COAT HANGER</td>\n",
       "      <td>UTILITY</td>\n",
       "    </tr>\n",
       "    <tr>\n",
       "      <th>3</th>\n",
       "      <td>536365</td>\n",
       "      <td>84029G</td>\n",
       "      <td>KNITTED UNION FLAG HOT WATER BOTTLE</td>\n",
       "      <td>6</td>\n",
       "      <td>2010-12-01 08:26:00</td>\n",
       "      <td>3.39</td>\n",
       "      <td>17850.0</td>\n",
       "      <td>United Kingdom</td>\n",
       "      <td>Completed</td>\n",
       "      <td>2010</td>\n",
       "      <td>Q4</td>\n",
       "      <td>Europe</td>\n",
       "      <td>20.34</td>\n",
       "      <td>BOTTLE</td>\n",
       "      <td>KITCHENWARE</td>\n",
       "    </tr>\n",
       "    <tr>\n",
       "      <th>4</th>\n",
       "      <td>536365</td>\n",
       "      <td>84029E</td>\n",
       "      <td>RED WOOLLY HOTTIE WHITE HEART.</td>\n",
       "      <td>6</td>\n",
       "      <td>2010-12-01 08:26:00</td>\n",
       "      <td>3.39</td>\n",
       "      <td>17850.0</td>\n",
       "      <td>United Kingdom</td>\n",
       "      <td>Completed</td>\n",
       "      <td>2010</td>\n",
       "      <td>Q4</td>\n",
       "      <td>Europe</td>\n",
       "      <td>20.34</td>\n",
       "      <td>HOTTIE</td>\n",
       "      <td>FASHION</td>\n",
       "    </tr>\n",
       "  </tbody>\n",
       "</table>\n",
       "</div>"
      ],
      "text/plain": [
       "  InvoiceNo StockCode                          Description  Quantity  \\\n",
       "0    536365    85123A   WHITE HANGING HEART T-LIGHT HOLDER         6   \n",
       "1    536365     71053                  WHITE METAL LANTERN         6   \n",
       "2    536365    84406B       CREAM CUPID HEARTS COAT HANGER         8   \n",
       "3    536365    84029G  KNITTED UNION FLAG HOT WATER BOTTLE         6   \n",
       "4    536365    84029E       RED WOOLLY HOTTIE WHITE HEART.         6   \n",
       "\n",
       "           InvoiceDate  UnitPrice  CustomerID         Country  \\\n",
       "0  2010-12-01 08:26:00       2.55     17850.0  United Kingdom   \n",
       "1  2010-12-01 08:26:00       3.39     17850.0  United Kingdom   \n",
       "2  2010-12-01 08:26:00       2.75     17850.0  United Kingdom   \n",
       "3  2010-12-01 08:26:00       3.39     17850.0  United Kingdom   \n",
       "4  2010-12-01 08:26:00       3.39     17850.0  United Kingdom   \n",
       "\n",
       "  Transaction_Status  Year Quarter Continent  Sales ProductCategory  \\\n",
       "0          Completed  2010      Q4    Europe  15.30         T-LIGHT   \n",
       "1          Completed  2010      Q4    Europe  20.34         LANTERN   \n",
       "2          Completed  2010      Q4    Europe  22.00     COAT HANGER   \n",
       "3          Completed  2010      Q4    Europe  20.34          BOTTLE   \n",
       "4          Completed  2010      Q4    Europe  20.34          HOTTIE   \n",
       "\n",
       "       ProductType  \n",
       "0  HOME DECORATION  \n",
       "1  HOME DECORATION  \n",
       "2          UTILITY  \n",
       "3      KITCHENWARE  \n",
       "4          FASHION  "
      ]
     },
     "execution_count": 3,
     "metadata": {},
     "output_type": "execute_result"
    }
   ],
   "source": [
    "# Creat an expectation suite\n",
    "expectation_suite_name = 'expectation-e-commerce-dataset'\n",
    "context.add_or_update_expectation_suite(expectation_suite_name)\n",
    "\n",
    "# Create a validator using above expectation suite\n",
    "validator = context.get_validator(\n",
    "    batch_request = batch_request,\n",
    "    expectation_suite_name = expectation_suite_name\n",
    ")\n",
    "\n",
    "# Check the validator\n",
    "validator.head()"
   ]
  },
  {
   "cell_type": "markdown",
   "metadata": {},
   "source": [
    "**Explanation**  \n",
    "\n",
    "Code above creates an expectation suite named 'expectation-e-commerce-dataset', adds or updates it in the data context, creates a validator using the expectation suite for the specified batch request, and displays the head of the validation results.\n",
    "\n",
    "The output displays the result of calculating metrics for the validation process. In this case, it shows that the calculation is complete, and it provides information about the progress (100% completion) and the time taken for the calculation. It indicates that 1 out of 1 batches have been processed."
   ]
  },
  {
   "cell_type": "markdown",
   "metadata": {},
   "source": [
    "# **4. List of Expectations**"
   ]
  },
  {
   "cell_type": "markdown",
   "metadata": {},
   "source": [
    "### **Expectation 1** - column `Sales` must be higher than `UnitPrice`"
   ]
  },
  {
   "cell_type": "code",
   "execution_count": 4,
   "metadata": {},
   "outputs": [
    {
     "data": {
      "application/vnd.jupyter.widget-view+json": {
       "model_id": "c9fb3dcd5e38419796f73c0ec110f482",
       "version_major": 2,
       "version_minor": 0
      },
      "text/plain": [
       "Calculating Metrics:   0%|          | 0/7 [00:00<?, ?it/s]"
      ]
     },
     "metadata": {},
     "output_type": "display_data"
    },
    {
     "data": {
      "text/plain": [
       "{\n",
       "  \"success\": false,\n",
       "  \"result\": {\n",
       "    \"element_count\": 531129,\n",
       "    \"unexpected_count\": 151264,\n",
       "    \"unexpected_percent\": 28.47971020222959,\n",
       "    \"partial_unexpected_list\": [\n",
       "      [\n",
       "        1.25,\n",
       "        1.25\n",
       "      ],\n",
       "      [\n",
       "        0.85,\n",
       "        0.85\n",
       "      ],\n",
       "      [\n",
       "        2.55,\n",
       "        2.55\n",
       "      ],\n",
       "      [\n",
       "        1.95,\n",
       "        1.95\n",
       "      ],\n",
       "      [\n",
       "        2.95,\n",
       "        2.95\n",
       "      ],\n",
       "      [\n",
       "        2.95,\n",
       "        2.95\n",
       "      ],\n",
       "      [\n",
       "        2.95,\n",
       "        2.95\n",
       "      ],\n",
       "      [\n",
       "        0.85,\n",
       "        0.85\n",
       "      ],\n",
       "      [\n",
       "        0.85,\n",
       "        0.85\n",
       "      ],\n",
       "      [\n",
       "        1.45,\n",
       "        1.45\n",
       "      ],\n",
       "      [\n",
       "        4.95,\n",
       "        4.95\n",
       "      ],\n",
       "      [\n",
       "        2.95,\n",
       "        2.95\n",
       "      ],\n",
       "      [\n",
       "        1.95,\n",
       "        1.95\n",
       "      ],\n",
       "      [\n",
       "        -4.65,\n",
       "        4.65\n",
       "      ],\n",
       "      [\n",
       "        19.95,\n",
       "        19.95\n",
       "      ],\n",
       "      [\n",
       "        -19.8,\n",
       "        1.65\n",
       "      ],\n",
       "      [\n",
       "        -6.959999999999999,\n",
       "        0.29\n",
       "      ],\n",
       "      [\n",
       "        -6.959999999999999,\n",
       "        0.29\n",
       "      ],\n",
       "      [\n",
       "        -6.959999999999999,\n",
       "        0.29\n",
       "      ],\n",
       "      [\n",
       "        -41.400000000000006,\n",
       "        3.45\n",
       "      ]\n",
       "    ],\n",
       "    \"missing_count\": 0,\n",
       "    \"missing_percent\": 0.0,\n",
       "    \"unexpected_percent_total\": 28.47971020222959,\n",
       "    \"unexpected_percent_nonmissing\": 28.47971020222959\n",
       "  },\n",
       "  \"meta\": {},\n",
       "  \"exception_info\": {\n",
       "    \"raised_exception\": false,\n",
       "    \"exception_traceback\": null,\n",
       "    \"exception_message\": null\n",
       "  }\n",
       "}"
      ]
     },
     "execution_count": 4,
     "metadata": {},
     "output_type": "execute_result"
    }
   ],
   "source": [
    "# Expectation 1 - columns `Sales` values must be greater than `UnitPrice`\n",
    "validator.expect_column_pair_values_A_to_be_greater_than_B(\n",
    "    column_A='Sales', \n",
    "    column_B='UnitPrice'\n",
    ")\n"
   ]
  },
  {
   "cell_type": "markdown",
   "metadata": {},
   "source": [
    "**Explanation**  \n",
    "\n",
    "In this dataset, there are two columns, 'Sales' representing the total revenue from each item, and 'UnitPrice' representing the total price of each product. The 'Sales' column is crucial to be greater than 'UnitPrice' to maintain a valid data outcome. Upon inspection using GX, it is evident that the 'Sales' column exceeds the unit prices, indicating a validated total revenue. This validation ensures that the revenue generated from sales, which is essential for profitability analysis."
   ]
  },
  {
   "cell_type": "markdown",
   "metadata": {},
   "source": [
    "### **Expectation 2** - `CustomerID` must be string datatype"
   ]
  },
  {
   "cell_type": "code",
   "execution_count": 5,
   "metadata": {},
   "outputs": [
    {
     "data": {
      "application/vnd.jupyter.widget-view+json": {
       "model_id": "462f4061ba224d8ab78da5463e26872f",
       "version_major": 2,
       "version_minor": 0
      },
      "text/plain": [
       "Calculating Metrics:   0%|          | 0/1 [00:00<?, ?it/s]"
      ]
     },
     "metadata": {},
     "output_type": "display_data"
    },
    {
     "data": {
      "text/plain": [
       "{\n",
       "  \"success\": false,\n",
       "  \"result\": {\n",
       "    \"observed_value\": \"float64\"\n",
       "  },\n",
       "  \"meta\": {},\n",
       "  \"exception_info\": {\n",
       "    \"raised_exception\": false,\n",
       "    \"exception_traceback\": null,\n",
       "    \"exception_message\": null\n",
       "  }\n",
       "}"
      ]
     },
     "execution_count": 5,
     "metadata": {},
     "output_type": "execute_result"
    }
   ],
   "source": [
    "# Expectation 2 - Column `CustomerID` must be string datatype\n",
    "validator.expect_column_values_to_be_in_type_list(\n",
    "    column='CustomerID', type_list=['object']\n",
    ")\n"
   ]
  },
  {
   "cell_type": "markdown",
   "metadata": {},
   "source": [
    "**Explanation**  \n",
    "\n",
    "The 'CustomerID' column is anticipated be of categorical values because it used for foreign key in main sales data and primary key in customer_data used in modeling. Hence, float values in raw data need to be change to object. This GX verifies that all entries in the column are object type."
   ]
  },
  {
   "cell_type": "markdown",
   "metadata": {},
   "source": [
    "### **Expectation 3** - `Transaction_Status` must include both status set"
   ]
  },
  {
   "cell_type": "code",
   "execution_count": 8,
   "metadata": {},
   "outputs": [
    {
     "data": {
      "application/vnd.jupyter.widget-view+json": {
       "model_id": "9b421ebb9ed04fc0b47bd9e8bda102b0",
       "version_major": 2,
       "version_minor": 0
      },
      "text/plain": [
       "Calculating Metrics:   0%|          | 0/8 [00:00<?, ?it/s]"
      ]
     },
     "metadata": {},
     "output_type": "display_data"
    },
    {
     "data": {
      "text/plain": [
       "{\n",
       "  \"success\": true,\n",
       "  \"result\": {\n",
       "    \"element_count\": 531129,\n",
       "    \"unexpected_count\": 0,\n",
       "    \"unexpected_percent\": 0.0,\n",
       "    \"partial_unexpected_list\": [],\n",
       "    \"missing_count\": 0,\n",
       "    \"missing_percent\": 0.0,\n",
       "    \"unexpected_percent_total\": 0.0,\n",
       "    \"unexpected_percent_nonmissing\": 0.0\n",
       "  },\n",
       "  \"meta\": {},\n",
       "  \"exception_info\": {\n",
       "    \"raised_exception\": false,\n",
       "    \"exception_traceback\": null,\n",
       "    \"exception_message\": null\n",
       "  }\n",
       "}"
      ]
     },
     "execution_count": 8,
     "metadata": {},
     "output_type": "execute_result"
    }
   ],
   "source": [
    "# Expectation 3 - Column `Transaction_Status` needs to include both status set (Completed & Cancelled)\n",
    "validator.expect_column_values_to_be_in_set(\n",
    "    column='Transaction_Status', value_set=['Completed', 'Cancelled']\n",
    ")"
   ]
  },
  {
   "cell_type": "markdown",
   "metadata": {},
   "source": [
    "**Explanation**  \n",
    "\n",
    "It is anticipated that the 'Transaction_Status' column containing data representing both status, Completed and Cncelled, as they constitute the transaction validity. Upon review, it is verified that the 'Transaction_Status' column indeed contains entries for both males and females, thus fulfilling the established expectation."
   ]
  },
  {
   "cell_type": "markdown",
   "metadata": {},
   "source": [
    "# **5. Saving into Expectations Suite**  "
   ]
  },
  {
   "cell_type": "code",
   "execution_count": 9,
   "metadata": {},
   "outputs": [],
   "source": [
    "# Save into Expectation Suite\n",
    "validator.save_expectation_suite(discard_failed_expectations=False)"
   ]
  },
  {
   "cell_type": "markdown",
   "metadata": {},
   "source": [
    "**Explanation**  \n",
    "\n",
    "In conclusion, we will store those expectations rule in the expectation suite"
   ]
  }
 ],
 "metadata": {
  "kernelspec": {
   "display_name": "base",
   "language": "python",
   "name": "python3"
  },
  "language_info": {
   "codemirror_mode": {
    "name": "ipython",
    "version": 3
   },
   "file_extension": ".py",
   "mimetype": "text/x-python",
   "name": "python",
   "nbconvert_exporter": "python",
   "pygments_lexer": "ipython3",
   "version": "3.11.5"
  }
 },
 "nbformat": 4,
 "nbformat_minor": 2
}
